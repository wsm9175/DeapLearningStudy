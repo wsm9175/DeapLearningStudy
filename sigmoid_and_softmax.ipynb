{
  "nbformat": 4,
  "nbformat_minor": 0,
  "metadata": {
    "colab": {
      "name": "sigmoid and softmax.ipynb",
      "provenance": [],
      "authorship_tag": "ABX9TyO0iW8SQA7enrN1M/+Gn0tK",
      "include_colab_link": true
    },
    "kernelspec": {
      "name": "python3",
      "display_name": "Python 3"
    },
    "language_info": {
      "name": "python"
    }
  },
  "cells": [
    {
      "cell_type": "markdown",
      "metadata": {
        "id": "view-in-github",
        "colab_type": "text"
      },
      "source": [
        "<a href=\"https://colab.research.google.com/github/wsm9175/DeepLearningStudy/blob/main/sigmoid_and_softmax.ipynb\" target=\"_parent\"><img src=\"https://colab.research.google.com/assets/colab-badge.svg\" alt=\"Open In Colab\"/></a>"
      ]
    },
    {
      "cell_type": "markdown",
      "source": [
        "Sigmoid in Dense"
      ],
      "metadata": {
        "id": "w4Ha8HapMFXe"
      }
    },
    {
      "cell_type": "code",
      "execution_count": 6,
      "metadata": {
        "colab": {
          "base_uri": "https://localhost:8080/"
        },
        "id": "Po7Mfa124hnG",
        "outputId": "961e9036-eaf6-4c39-feef-2d3219be6256"
      },
      "outputs": [
        {
          "output_type": "stream",
          "name": "stdout",
          "text": [
            "[[0.43900517]\n",
            " [0.58683693]\n",
            " [0.33634257]\n",
            " [0.427994  ]\n",
            " [0.75011647]\n",
            " [0.8671812 ]\n",
            " [0.7084383 ]\n",
            " [0.645337  ]]\n"
          ]
        }
      ],
      "source": [
        "import tensorflow as tf\n",
        "\n",
        "from tensorflow.keras.layers import Dense\n",
        "from tensorflow.keras.models import Sequential\n",
        "\n",
        "N, n_feature = 8, 10\n",
        "\n",
        "x = tf.random.normal(shape=(N, n_feature))\n",
        "\n",
        "model = Sequential()\n",
        "model.add(Dense(units=10, activation='relu'))\n",
        "model.add(Dense(units=1, activation='sigmoid'))\n",
        "\n",
        "Y = model(x)\n"
      ]
    },
    {
      "cell_type": "markdown",
      "source": [
        "3-4 Softmax Layers"
      ],
      "metadata": {
        "id": "AIEMASyPHkRN"
      }
    },
    {
      "cell_type": "markdown",
      "source": [
        "Code.3-4-1 : IO of Softmax"
      ],
      "metadata": {
        "id": "MsSPhK_UHmr5"
      }
    },
    {
      "cell_type": "code",
      "source": [
        "import tensorflow as tf\n",
        "from tensorflow.keras.layers import Activation\n",
        "\n",
        "logit = tf.random.uniform(shape=(2, 5), minval=-10, maxval=10) # -10-10 사이에서 랜덤한 값 생성\n",
        "\n",
        "softmax_value = Activation('softmax')(logit)\n",
        "softmax_sum = tf.reduce_sum(softmax_value, axis=1)\n",
        "\n",
        "print(\"logits: \", logit.numpy())\n",
        "print('Probability: ', softmax_value.numpy())\n",
        "print('Sum of sotfmax values: ', softmax_sum.numpy())"
      ],
      "metadata": {
        "colab": {
          "base_uri": "https://localhost:8080/"
        },
        "id": "4BjnE0q6IwjU",
        "outputId": "510783f9-0898-414d-d7ab-79b79b6bfdda"
      },
      "execution_count": 28,
      "outputs": [
        {
          "output_type": "stream",
          "name": "stdout",
          "text": [
            "logits:  [[-9.4881935   1.843586   -3.9785457   5.206194   -9.175703  ]\n",
            " [-5.9622264  -0.17506123 -7.565632    0.66687393 -3.1710124 ]]\n",
            "Probability:  [[4.0130431e-07 3.3481363e-02 9.9147845e-05 9.6641845e-01 5.4851273e-07]\n",
            " [9.0876844e-04 2.9633784e-01 1.8285342e-04 6.8775684e-01 1.4813649e-02]]\n",
            "Sum of sotfmax values:  [0.9999999 1.       ]\n"
          ]
        }
      ]
    },
    {
      "cell_type": "markdown",
      "source": [
        "Code.3-4-2: Softmax in Dense Layers"
      ],
      "metadata": {
        "id": "vpaB6RQzMRXi"
      }
    },
    {
      "cell_type": "code",
      "source": [
        "import tensorflow as tf\n",
        "\n",
        "from tensorflow.keras.layers import Dense\n",
        "\n",
        "logit = tf.random.uniform(shape=(8, 5), minval=-10, maxval=10)\n",
        "dense = Dense(units=8, activation='softmax')\n",
        "\n",
        "Y = dense(logit)\n",
        "print(tf.reduce_sum(Y, axis=1))"
      ],
      "metadata": {
        "colab": {
          "base_uri": "https://localhost:8080/"
        },
        "id": "vzFPqQZXIM7w",
        "outputId": "e842d348-d900-4749-dfd7-9a9fa9de856d"
      },
      "execution_count": 34,
      "outputs": [
        {
          "output_type": "stream",
          "name": "stdout",
          "text": [
            "tf.Tensor(\n",
            "[0.99999994 1.         0.99999994 1.         1.         1.\n",
            " 0.99999994 1.        ], shape=(8,), dtype=float32)\n"
          ]
        }
      ]
    },
    {
      "cell_type": "markdown",
      "source": [
        "3-5: Multi-class Classifiers"
      ],
      "metadata": {
        "id": "-HJPHgnJNp1K"
      }
    },
    {
      "cell_type": "markdown",
      "source": [
        "Code.3-5-1: Multi-class Classifiers"
      ],
      "metadata": {
        "id": "Z92_2GpDNtiA"
      }
    },
    {
      "cell_type": "code",
      "source": [
        "import tensorflow as tf\n",
        "from tensorflow.keras.layers import Dense\n",
        "from tensorflow.keras.models import Sequential, Model\n",
        "\n",
        "class MultiClassClassifiers(Model):\n",
        "  def __init__(self):\n",
        "    super(MultiClassClassifiers, self).__init__()\n",
        "\n",
        "    self.model = Sequential()\n",
        "    self.model.add(Dense(units=10, activation = 'relu'))\n",
        "    self.model.add(Dense(units=8, activation = 'relu'))\n",
        "    self.model.add(Dense(units=3, activation='softmax'))\n",
        "  \n",
        "  def __call__(self, x):\n",
        "    Y = self.model(x) \n",
        "    return Y\n",
        "\n",
        "N, n_feature = 8, 10\n",
        "\n",
        "X = tf.random.normal(shape=(8, 10))\n",
        "model = MultiClassClassifiers()\n",
        "output = model(X)\n",
        "print(output)\n",
        "\n",
        "print(tf.reduce_sum(output, axis=1))"
      ],
      "metadata": {
        "colab": {
          "base_uri": "https://localhost:8080/"
        },
        "id": "lJitT10wMPwg",
        "outputId": "091a7ddc-dae3-4994-93cd-666f26d111bd"
      },
      "execution_count": 3,
      "outputs": [
        {
          "output_type": "stream",
          "name": "stdout",
          "text": [
            "tf.Tensor(\n",
            "[[0.2200502  0.40138513 0.37856472]\n",
            " [0.16567157 0.58113426 0.2531942 ]\n",
            " [0.18437505 0.3768925  0.43873253]\n",
            " [0.16242404 0.54044586 0.29713017]\n",
            " [0.2341089  0.31767952 0.44821158]\n",
            " [0.16346358 0.5460058  0.29053062]\n",
            " [0.13579865 0.44065776 0.42354357]\n",
            " [0.12104379 0.5260957  0.3528606 ]], shape=(8, 3), dtype=float32)\n",
            "tf.Tensor(\n",
            "[1.        1.        1.0000001 1.        1.        1.        1.\n",
            " 1.0000001], shape=(8,), dtype=float32)\n"
          ]
        }
      ]
    },
    {
      "cell_type": "code",
      "source": [
        ""
      ],
      "metadata": {
        "id": "p_LtdXbYaNfR"
      },
      "execution_count": null,
      "outputs": []
    }
  ]
}